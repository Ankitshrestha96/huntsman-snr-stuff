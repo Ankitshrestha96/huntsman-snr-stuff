{
 "cells": [
  {
   "cell_type": "code",
   "execution_count": 9,
   "metadata": {
    "collapsed": false
   },
   "outputs": [
    {
     "name": "stdout",
     "output_type": "stream",
     "text": [
      " name  gender\n",
      "micron m or f\n",
      "------ ------\n",
      " ankit      m\n",
      "hutcho      m\n",
      " sarah      f\n",
      " renee      f\n"
     ]
    }
   ],
   "source": [
    "import numpy as np\n",
    "from astropy import table\n",
    "from astropy import units as u\n",
    "names = [\"name\", \"gender\"]\n",
    "data_rows = [[\"ankit\",\"m\"], [\"hutcho\", \"m\"],[\"sarah\", \"f\"], [\"renee\", \"f\"]]\n",
    "test_table = table.Table(rows=data_rows, names=names)\n",
    "test_table['name'].unit = u.micron\n",
    "test_table['gender'].unit = 'm or f'\n",
    "test_table.pprint(max_width=100, show_dtype=False)"
   ]
  },
  {
   "cell_type": "code",
   "execution_count": 16,
   "metadata": {
    "collapsed": false
   },
   "outputs": [
    {
     "data": {
      "text/plain": [
       "3.0"
      ]
     },
     "execution_count": 16,
     "metadata": {},
     "output_type": "execute_result"
    }
   ],
   "source": [
    "xp=[1,2,4]\n",
    "fp=[2,4,8]\n",
    "np.interp(1.5,xp,fp, left=0, right=13)"
   ]
  },
  {
   "cell_type": "code",
   "execution_count": null,
   "metadata": {
    "collapsed": true
   },
   "outputs": [],
   "source": []
  }
 ],
 "metadata": {
  "kernelspec": {
   "display_name": "Python 3",
   "language": "python",
   "name": "python3"
  },
  "language_info": {
   "codemirror_mode": {
    "name": "ipython",
    "version": 3
   },
   "file_extension": ".py",
   "mimetype": "text/x-python",
   "name": "python",
   "nbconvert_exporter": "python",
   "pygments_lexer": "ipython3",
   "version": "3.5.2"
  }
 },
 "nbformat": 4,
 "nbformat_minor": 1
}
